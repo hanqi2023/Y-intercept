{
 "cells": [
  {
   "cell_type": "code",
   "execution_count": 1,
   "id": "18fe5eb8",
   "metadata": {},
   "outputs": [],
   "source": [
    "import pandas as pd\n",
    "import numpy as np\n",
    "import matplotlib.pyplot as plt\n",
    "from sklearn.neighbors import LocalOutlierFactor\n",
    "from sklearn.linear_model import LinearRegression\n",
    "import statsmodels.api as sm\n",
    "from statsmodels.tsa.stattools import adfuller, coint\n",
    "from statsmodels.tsa.stattools import kpss"
   ]
  },
  {
   "cell_type": "markdown",
   "id": "e79092ce",
   "metadata": {},
   "source": [
    "# Data Explore"
   ]
  },
  {
   "cell_type": "code",
   "execution_count": 2,
   "id": "c184c91f",
   "metadata": {},
   "outputs": [],
   "source": [
    "da = pd.read_csv(\"data.csv\")"
   ]
  },
  {
   "cell_type": "code",
   "execution_count": 3,
   "id": "fcefd99d",
   "metadata": {},
   "outputs": [
    {
     "data": {
      "text/html": [
       "<div>\n",
       "<style scoped>\n",
       "    .dataframe tbody tr th:only-of-type {\n",
       "        vertical-align: middle;\n",
       "    }\n",
       "\n",
       "    .dataframe tbody tr th {\n",
       "        vertical-align: top;\n",
       "    }\n",
       "\n",
       "    .dataframe thead th {\n",
       "        text-align: right;\n",
       "    }\n",
       "</style>\n",
       "<table border=\"1\" class=\"dataframe\">\n",
       "  <thead>\n",
       "    <tr style=\"text-align: right;\">\n",
       "      <th></th>\n",
       "      <th>ticker</th>\n",
       "      <th>date</th>\n",
       "      <th>last</th>\n",
       "      <th>volume</th>\n",
       "    </tr>\n",
       "  </thead>\n",
       "  <tbody>\n",
       "    <tr>\n",
       "      <th>0</th>\n",
       "      <td>1332 JT</td>\n",
       "      <td>2013-01-04</td>\n",
       "      <td>169.0987</td>\n",
       "      <td>1464100</td>\n",
       "    </tr>\n",
       "    <tr>\n",
       "      <th>1</th>\n",
       "      <td>1332 JT</td>\n",
       "      <td>2013-01-07</td>\n",
       "      <td>166.3266</td>\n",
       "      <td>1783500</td>\n",
       "    </tr>\n",
       "    <tr>\n",
       "      <th>2</th>\n",
       "      <td>1332 JT</td>\n",
       "      <td>2013-01-08</td>\n",
       "      <td>166.3266</td>\n",
       "      <td>1759800</td>\n",
       "    </tr>\n",
       "    <tr>\n",
       "      <th>3</th>\n",
       "      <td>1332 JT</td>\n",
       "      <td>2013-01-09</td>\n",
       "      <td>165.4026</td>\n",
       "      <td>767800</td>\n",
       "    </tr>\n",
       "    <tr>\n",
       "      <th>4</th>\n",
       "      <td>1332 JT</td>\n",
       "      <td>2013-01-10</td>\n",
       "      <td>167.2507</td>\n",
       "      <td>1503100</td>\n",
       "    </tr>\n",
       "  </tbody>\n",
       "</table>\n",
       "</div>"
      ],
      "text/plain": [
       "    ticker        date      last   volume\n",
       "0  1332 JT  2013-01-04  169.0987  1464100\n",
       "1  1332 JT  2013-01-07  166.3266  1783500\n",
       "2  1332 JT  2013-01-08  166.3266  1759800\n",
       "3  1332 JT  2013-01-09  165.4026   767800\n",
       "4  1332 JT  2013-01-10  167.2507  1503100"
      ]
     },
     "execution_count": 3,
     "metadata": {},
     "output_type": "execute_result"
    }
   ],
   "source": [
    "da.head()"
   ]
  },
  {
   "cell_type": "markdown",
   "id": "b824290b",
   "metadata": {},
   "source": [
    "## Stock selection based on data sufficiency"
   ]
  },
  {
   "cell_type": "code",
   "execution_count": 4,
   "id": "2a98b40c",
   "metadata": {},
   "outputs": [
    {
     "data": {
      "text/plain": [
       "array(['1332 JT', '1333 JT', '1334 JT', '1605 JT', '1721 JT', '1801 JT',\n",
       "       '1802 JT', '1803 JT', '1808 JT', '1812 JT', '1925 JT', '1928 JT',\n",
       "       '1963 JT', '2002 JT', '2269 JT', '2282 JT', '2413 JT', '2432 JT',\n",
       "       '2501 JT', '2502 JT', '2503 JT', '2531 JT', '2768 JT', '2801 JT',\n",
       "       '2802 JT', '2871 JT', '2914 JT', '3086 JT', '3099 JT', '3101 JT',\n",
       "       '3103 JT', '3105 JT', '3110 JT', '3289 JT', '3382 JT', '3401 JT',\n",
       "       '3402 JT', '3405 JT', '3407 JT', '3436 JT', '3659 JT', '3861 JT',\n",
       "       '3863 JT', '3864 JT', '3865 JT', '3893 JT', '4004 JT', '4005 JT',\n",
       "       '4021 JT', '4041 JT', '4042 JT', '4043 JT', '4061 JT', '4063 JT',\n",
       "       '4151 JT', '4183 JT', '4188 JT', '4208 JT', '4272 JT', '4324 JT',\n",
       "       '4452 JT', '4502 JT', '4503 JT', '4506 JT', '4507 JT', '4519 JT',\n",
       "       '4523 JT', '4543 JT', '4568 JT', '4578 JT', '4631 JT', '4689 JT',\n",
       "       '4704 JT', '4751 JT', '4755 JT', '4901 JT', '4902 JT', '4911 JT',\n",
       "       '5002 JT', '5019 JT', '5020 JT', '5101 JT', '5108 JT', '5201 JT',\n",
       "       '5202 JT', '5214 JT', '5232 JT', '5233 JT', '5301 JT', '5332 JT',\n",
       "       '5333 JT', '5401 JT', '5406 JT', '5411 JT', '5413 JT', '5541 JT',\n",
       "       '5631 JT', '5703 JT', '5706 JT', '5707 JT', '5711 JT', '5713 JT',\n",
       "       '5714 JT', '5715 JT', '5801 JT', '5802 JT', '5803 JT', '5901 JT',\n",
       "       '6098 JT', '6103 JT', '6113 JT', '6178 JT', '6301 JT', '6302 JT',\n",
       "       '6305 JT', '6326 JT', '6361 JT', '6366 JT', '6367 JT', '6471 JT',\n",
       "       '6472 JT', '6473 JT', '6479 JT', '6501 JT', '6502 JT', '6503 JT',\n",
       "       '6504 JT', '6506 JT', '6508 JT', '6645 JT', '6674 JT', '6701 JT',\n",
       "       '6702 JT', '6703 JT', '6724 JT', '6752 JT', '6753 JT', '6758 JT',\n",
       "       '6762 JT', '6767 JT', '6770 JT', '6773 JT', '6841 JT', '6857 JT',\n",
       "       '6902 JT', '6952 JT', '6954 JT', '6971 JT', '6976 JT', '6988 JT',\n",
       "       '7003 JT', '7004 JT', '7011 JT', '7012 JT', '7013 JT', '7186 JT',\n",
       "       '7201 JT', '7202 JT', '7203 JT', '7205 JT', '7211 JT', '7261 JT',\n",
       "       '7267 JT', '7269 JT', '7270 JT', '7272 JT', '7731 JT', '7733 JT',\n",
       "       '7735 JT', '7751 JT', '7752 JT', '7762 JT', '7832 JT', '7911 JT',\n",
       "       '7912 JT', '7951 JT', '8001 JT', '8002 JT', '8015 JT', '8028 JT',\n",
       "       '8031 JT', '8035 JT', '8053 JT', '8058 JT', '8233 JT', '8252 JT',\n",
       "       '8253 JT', '8267 JT', '8270 JT', '8303 JT', '8304 JT', '8306 JT',\n",
       "       '8308 JT', '8309 JT', '8316 JT', '8331 JT', '8332 JT', '8354 JT',\n",
       "       '8355 JT', '8411 JT', '8601 JT', '8604 JT', '8628 JT', '8630 JT',\n",
       "       '8697 JT', '8725 JT', '8729 JT', '8750 JT', '8766 JT', '8795 JT',\n",
       "       '8801 JT', '8802 JT', '8803 JT', '8804 JT', '8815 JT', '8830 JT',\n",
       "       '9001 JT', '9005 JT', '9007 JT', '9008 JT', '9009 JT', '9020 JT',\n",
       "       '9021 JT', '9022 JT', '9062 JT', '9064 JT', '9101 JT', '9104 JT',\n",
       "       '9107 JT', '9202 JT', '9301 JT', '9412 JT', '9432 JT', '9433 JT',\n",
       "       '9434 JT', '9437 JT', '9501 JT', '9502 JT', '9503 JT', '9531 JT',\n",
       "       '9532 JT', '9602 JT', '9613 JT', '9681 JT', '9735 JT', '9766 JT',\n",
       "       '9983 JT', '9984 JT'], dtype=object)"
      ]
     },
     "execution_count": 4,
     "metadata": {},
     "output_type": "execute_result"
    }
   ],
   "source": [
    "da[\"ticker\"].unique()"
   ]
  },
  {
   "cell_type": "code",
   "execution_count": 5,
   "id": "02251f88",
   "metadata": {},
   "outputs": [
    {
     "data": {
      "text/html": [
       "<div>\n",
       "<style scoped>\n",
       "    .dataframe tbody tr th:only-of-type {\n",
       "        vertical-align: middle;\n",
       "    }\n",
       "\n",
       "    .dataframe tbody tr th {\n",
       "        vertical-align: top;\n",
       "    }\n",
       "\n",
       "    .dataframe thead th {\n",
       "        text-align: right;\n",
       "    }\n",
       "</style>\n",
       "<table border=\"1\" class=\"dataframe\">\n",
       "  <thead>\n",
       "    <tr style=\"text-align: right;\">\n",
       "      <th></th>\n",
       "      <th>ticker</th>\n",
       "      <th>date</th>\n",
       "      <th>last</th>\n",
       "      <th>volume</th>\n",
       "    </tr>\n",
       "  </thead>\n",
       "  <tbody>\n",
       "    <tr>\n",
       "      <th>2005</th>\n",
       "      <td>1333 JT</td>\n",
       "      <td>2014-04-02</td>\n",
       "      <td>1590.8200</td>\n",
       "      <td>672700</td>\n",
       "    </tr>\n",
       "    <tr>\n",
       "      <th>2006</th>\n",
       "      <td>1333 JT</td>\n",
       "      <td>2014-04-03</td>\n",
       "      <td>1587.1354</td>\n",
       "      <td>471300</td>\n",
       "    </tr>\n",
       "    <tr>\n",
       "      <th>2007</th>\n",
       "      <td>1333 JT</td>\n",
       "      <td>2014-04-04</td>\n",
       "      <td>1580.6874</td>\n",
       "      <td>132900</td>\n",
       "    </tr>\n",
       "    <tr>\n",
       "      <th>2008</th>\n",
       "      <td>1333 JT</td>\n",
       "      <td>2014-04-07</td>\n",
       "      <td>1553.9741</td>\n",
       "      <td>150400</td>\n",
       "    </tr>\n",
       "    <tr>\n",
       "      <th>2009</th>\n",
       "      <td>1333 JT</td>\n",
       "      <td>2014-04-08</td>\n",
       "      <td>1553.0530</td>\n",
       "      <td>191900</td>\n",
       "    </tr>\n",
       "    <tr>\n",
       "      <th>...</th>\n",
       "      <td>...</td>\n",
       "      <td>...</td>\n",
       "      <td>...</td>\n",
       "      <td>...</td>\n",
       "    </tr>\n",
       "    <tr>\n",
       "      <th>3701</th>\n",
       "      <td>1333 JT</td>\n",
       "      <td>2021-03-15</td>\n",
       "      <td>2718.0000</td>\n",
       "      <td>191100</td>\n",
       "    </tr>\n",
       "    <tr>\n",
       "      <th>3702</th>\n",
       "      <td>1333 JT</td>\n",
       "      <td>2021-03-16</td>\n",
       "      <td>2713.0000</td>\n",
       "      <td>151100</td>\n",
       "    </tr>\n",
       "    <tr>\n",
       "      <th>3703</th>\n",
       "      <td>1333 JT</td>\n",
       "      <td>2021-03-17</td>\n",
       "      <td>2732.0000</td>\n",
       "      <td>169400</td>\n",
       "    </tr>\n",
       "    <tr>\n",
       "      <th>3704</th>\n",
       "      <td>1333 JT</td>\n",
       "      <td>2021-03-18</td>\n",
       "      <td>2740.0000</td>\n",
       "      <td>155300</td>\n",
       "    </tr>\n",
       "    <tr>\n",
       "      <th>3705</th>\n",
       "      <td>1333 JT</td>\n",
       "      <td>2021-03-19</td>\n",
       "      <td>2725.0000</td>\n",
       "      <td>395800</td>\n",
       "    </tr>\n",
       "  </tbody>\n",
       "</table>\n",
       "<p>1701 rows × 4 columns</p>\n",
       "</div>"
      ],
      "text/plain": [
       "       ticker        date       last  volume\n",
       "2005  1333 JT  2014-04-02  1590.8200  672700\n",
       "2006  1333 JT  2014-04-03  1587.1354  471300\n",
       "2007  1333 JT  2014-04-04  1580.6874  132900\n",
       "2008  1333 JT  2014-04-07  1553.9741  150400\n",
       "2009  1333 JT  2014-04-08  1553.0530  191900\n",
       "...       ...         ...        ...     ...\n",
       "3701  1333 JT  2021-03-15  2718.0000  191100\n",
       "3702  1333 JT  2021-03-16  2713.0000  151100\n",
       "3703  1333 JT  2021-03-17  2732.0000  169400\n",
       "3704  1333 JT  2021-03-18  2740.0000  155300\n",
       "3705  1333 JT  2021-03-19  2725.0000  395800\n",
       "\n",
       "[1701 rows x 4 columns]"
      ]
     },
     "execution_count": 5,
     "metadata": {},
     "output_type": "execute_result"
    }
   ],
   "source": [
    "da[da[\"ticker\"]=='1333 JT']"
   ]
  },
  {
   "cell_type": "code",
   "execution_count": 6,
   "id": "3242f458",
   "metadata": {},
   "outputs": [
    {
     "data": {
      "text/html": [
       "<div>\n",
       "<style scoped>\n",
       "    .dataframe tbody tr th:only-of-type {\n",
       "        vertical-align: middle;\n",
       "    }\n",
       "\n",
       "    .dataframe tbody tr th {\n",
       "        vertical-align: top;\n",
       "    }\n",
       "\n",
       "    .dataframe thead th {\n",
       "        text-align: right;\n",
       "    }\n",
       "</style>\n",
       "<table border=\"1\" class=\"dataframe\">\n",
       "  <thead>\n",
       "    <tr style=\"text-align: right;\">\n",
       "      <th></th>\n",
       "      <th>ticker</th>\n",
       "      <th>date</th>\n",
       "      <th>last</th>\n",
       "      <th>volume</th>\n",
       "    </tr>\n",
       "  </thead>\n",
       "  <tbody>\n",
       "    <tr>\n",
       "      <th>0</th>\n",
       "      <td>1332 JT</td>\n",
       "      <td>2013-01-04</td>\n",
       "      <td>169.0987</td>\n",
       "      <td>1464100</td>\n",
       "    </tr>\n",
       "    <tr>\n",
       "      <th>1</th>\n",
       "      <td>1332 JT</td>\n",
       "      <td>2013-01-07</td>\n",
       "      <td>166.3266</td>\n",
       "      <td>1783500</td>\n",
       "    </tr>\n",
       "    <tr>\n",
       "      <th>2</th>\n",
       "      <td>1332 JT</td>\n",
       "      <td>2013-01-08</td>\n",
       "      <td>166.3266</td>\n",
       "      <td>1759800</td>\n",
       "    </tr>\n",
       "    <tr>\n",
       "      <th>3</th>\n",
       "      <td>1332 JT</td>\n",
       "      <td>2013-01-09</td>\n",
       "      <td>165.4026</td>\n",
       "      <td>767800</td>\n",
       "    </tr>\n",
       "    <tr>\n",
       "      <th>4</th>\n",
       "      <td>1332 JT</td>\n",
       "      <td>2013-01-10</td>\n",
       "      <td>167.2507</td>\n",
       "      <td>1503100</td>\n",
       "    </tr>\n",
       "    <tr>\n",
       "      <th>...</th>\n",
       "      <td>...</td>\n",
       "      <td>...</td>\n",
       "      <td>...</td>\n",
       "      <td>...</td>\n",
       "    </tr>\n",
       "    <tr>\n",
       "      <th>2000</th>\n",
       "      <td>1332 JT</td>\n",
       "      <td>2021-03-15</td>\n",
       "      <td>560.0000</td>\n",
       "      <td>1537500</td>\n",
       "    </tr>\n",
       "    <tr>\n",
       "      <th>2001</th>\n",
       "      <td>1332 JT</td>\n",
       "      <td>2021-03-16</td>\n",
       "      <td>559.0000</td>\n",
       "      <td>1594200</td>\n",
       "    </tr>\n",
       "    <tr>\n",
       "      <th>2002</th>\n",
       "      <td>1332 JT</td>\n",
       "      <td>2021-03-17</td>\n",
       "      <td>561.0000</td>\n",
       "      <td>1328200</td>\n",
       "    </tr>\n",
       "    <tr>\n",
       "      <th>2003</th>\n",
       "      <td>1332 JT</td>\n",
       "      <td>2021-03-18</td>\n",
       "      <td>565.0000</td>\n",
       "      <td>1421200</td>\n",
       "    </tr>\n",
       "    <tr>\n",
       "      <th>2004</th>\n",
       "      <td>1332 JT</td>\n",
       "      <td>2021-03-19</td>\n",
       "      <td>567.0000</td>\n",
       "      <td>2197500</td>\n",
       "    </tr>\n",
       "  </tbody>\n",
       "</table>\n",
       "<p>2005 rows × 4 columns</p>\n",
       "</div>"
      ],
      "text/plain": [
       "       ticker        date      last   volume\n",
       "0     1332 JT  2013-01-04  169.0987  1464100\n",
       "1     1332 JT  2013-01-07  166.3266  1783500\n",
       "2     1332 JT  2013-01-08  166.3266  1759800\n",
       "3     1332 JT  2013-01-09  165.4026   767800\n",
       "4     1332 JT  2013-01-10  167.2507  1503100\n",
       "...       ...         ...       ...      ...\n",
       "2000  1332 JT  2021-03-15  560.0000  1537500\n",
       "2001  1332 JT  2021-03-16  559.0000  1594200\n",
       "2002  1332 JT  2021-03-17  561.0000  1328200\n",
       "2003  1332 JT  2021-03-18  565.0000  1421200\n",
       "2004  1332 JT  2021-03-19  567.0000  2197500\n",
       "\n",
       "[2005 rows x 4 columns]"
      ]
     },
     "execution_count": 6,
     "metadata": {},
     "output_type": "execute_result"
    }
   ],
   "source": [
    "da[da[\"ticker\"]==\"1332 JT\"]"
   ]
  },
  {
   "cell_type": "markdown",
   "id": "5b31b241",
   "metadata": {},
   "source": [
    "It seems that the date ranges for different stocks are different."
   ]
  },
  {
   "cell_type": "code",
   "execution_count": 7,
   "id": "88cc79db",
   "metadata": {},
   "outputs": [],
   "source": [
    "stocks = da[\"ticker\"].unique()\n",
    "stock_date = pd.DataFrame(index=stocks, columns=[\"begin\", \"end\"])\n",
    "\n",
    "for i in stock_date.index:\n",
    "    stock_data = da[da[\"ticker\"]==i]\n",
    "    stock_date.loc[i, \"begin\"] = stock_data[\"date\"].iloc[0]\n",
    "    stock_date.loc[i, \"end\"] = stock_data[\"date\"].iloc[-1]"
   ]
  },
  {
   "cell_type": "code",
   "execution_count": 8,
   "id": "8f39962b",
   "metadata": {},
   "outputs": [
    {
     "data": {
      "text/html": [
       "<div>\n",
       "<style scoped>\n",
       "    .dataframe tbody tr th:only-of-type {\n",
       "        vertical-align: middle;\n",
       "    }\n",
       "\n",
       "    .dataframe tbody tr th {\n",
       "        vertical-align: top;\n",
       "    }\n",
       "\n",
       "    .dataframe thead th {\n",
       "        text-align: right;\n",
       "    }\n",
       "</style>\n",
       "<table border=\"1\" class=\"dataframe\">\n",
       "  <thead>\n",
       "    <tr style=\"text-align: right;\">\n",
       "      <th></th>\n",
       "      <th>begin</th>\n",
       "      <th>end</th>\n",
       "    </tr>\n",
       "  </thead>\n",
       "  <tbody>\n",
       "    <tr>\n",
       "      <th>1332 JT</th>\n",
       "      <td>2013-01-04</td>\n",
       "      <td>2021-03-19</td>\n",
       "    </tr>\n",
       "    <tr>\n",
       "      <th>1333 JT</th>\n",
       "      <td>2014-04-02</td>\n",
       "      <td>2021-03-19</td>\n",
       "    </tr>\n",
       "    <tr>\n",
       "      <th>1334 JT</th>\n",
       "      <td>2013-01-04</td>\n",
       "      <td>2014-03-26</td>\n",
       "    </tr>\n",
       "    <tr>\n",
       "      <th>1605 JT</th>\n",
       "      <td>2013-01-04</td>\n",
       "      <td>2021-03-19</td>\n",
       "    </tr>\n",
       "    <tr>\n",
       "      <th>1721 JT</th>\n",
       "      <td>2013-01-04</td>\n",
       "      <td>2021-03-19</td>\n",
       "    </tr>\n",
       "    <tr>\n",
       "      <th>...</th>\n",
       "      <td>...</td>\n",
       "      <td>...</td>\n",
       "    </tr>\n",
       "    <tr>\n",
       "      <th>9681 JT</th>\n",
       "      <td>2013-01-04</td>\n",
       "      <td>2019-09-30</td>\n",
       "    </tr>\n",
       "    <tr>\n",
       "      <th>9735 JT</th>\n",
       "      <td>2013-01-04</td>\n",
       "      <td>2021-03-19</td>\n",
       "    </tr>\n",
       "    <tr>\n",
       "      <th>9766 JT</th>\n",
       "      <td>2013-01-04</td>\n",
       "      <td>2021-03-19</td>\n",
       "    </tr>\n",
       "    <tr>\n",
       "      <th>9983 JT</th>\n",
       "      <td>2013-01-04</td>\n",
       "      <td>2021-03-19</td>\n",
       "    </tr>\n",
       "    <tr>\n",
       "      <th>9984 JT</th>\n",
       "      <td>2013-01-04</td>\n",
       "      <td>2021-03-19</td>\n",
       "    </tr>\n",
       "  </tbody>\n",
       "</table>\n",
       "<p>248 rows × 2 columns</p>\n",
       "</div>"
      ],
      "text/plain": [
       "              begin         end\n",
       "1332 JT  2013-01-04  2021-03-19\n",
       "1333 JT  2014-04-02  2021-03-19\n",
       "1334 JT  2013-01-04  2014-03-26\n",
       "1605 JT  2013-01-04  2021-03-19\n",
       "1721 JT  2013-01-04  2021-03-19\n",
       "...             ...         ...\n",
       "9681 JT  2013-01-04  2019-09-30\n",
       "9735 JT  2013-01-04  2021-03-19\n",
       "9766 JT  2013-01-04  2021-03-19\n",
       "9983 JT  2013-01-04  2021-03-19\n",
       "9984 JT  2013-01-04  2021-03-19\n",
       "\n",
       "[248 rows x 2 columns]"
      ]
     },
     "execution_count": 8,
     "metadata": {},
     "output_type": "execute_result"
    }
   ],
   "source": [
    "stock_date"
   ]
  },
  {
   "cell_type": "code",
   "execution_count": 9,
   "id": "b547110d",
   "metadata": {},
   "outputs": [
    {
     "name": "stdout",
     "output_type": "stream",
     "text": [
      "['2013-01-04' '2014-04-02' '2015-10-01' '2019-10-01' '2013-10-02'\n",
      " '2020-10-29' '2013-04-02' '2017-01-24' '2018-12-26' '2018-10-01'\n",
      " '2016-10-03' '2019-03-27' '2017-10-02' '2019-03-18' '2017-08-01'\n",
      " '2013-09-26' '2016-04-04' '2016-08-01' '2019-08-01' '2016-08-29'\n",
      " '2020-07-29' '2020-10-02']\n",
      "['2021-03-19' '2014-03-26' '2015-09-30' '2013-10-01' '2017-09-29'\n",
      " '2013-03-26' '2016-09-30' '2020-09-30' '2019-03-26' '2018-12-25'\n",
      " '2018-09-28' '2019-07-31' '2017-07-31' '2017-01-23' '2019-03-15'\n",
      " '2020-10-28' '2016-08-26' '2016-03-28' '2020-07-28' '2013-09-25'\n",
      " '2020-12-01' '2019-09-30']\n"
     ]
    }
   ],
   "source": [
    "print(stock_date[\"begin\"].unique())\n",
    "print(stock_date[\"end\"].unique())"
   ]
  },
  {
   "cell_type": "markdown",
   "id": "54b8d3fe",
   "metadata": {},
   "source": [
    "Here, we only select stocks with sufficient data, which means the date range begins at 2013-01-04 and ends at 2021-03-19."
   ]
  },
  {
   "cell_type": "code",
   "execution_count": 10,
   "id": "ac6f7b8b",
   "metadata": {},
   "outputs": [
    {
     "data": {
      "text/html": [
       "<div>\n",
       "<style scoped>\n",
       "    .dataframe tbody tr th:only-of-type {\n",
       "        vertical-align: middle;\n",
       "    }\n",
       "\n",
       "    .dataframe tbody tr th {\n",
       "        vertical-align: top;\n",
       "    }\n",
       "\n",
       "    .dataframe thead th {\n",
       "        text-align: right;\n",
       "    }\n",
       "</style>\n",
       "<table border=\"1\" class=\"dataframe\">\n",
       "  <thead>\n",
       "    <tr style=\"text-align: right;\">\n",
       "      <th></th>\n",
       "      <th>begin</th>\n",
       "      <th>end</th>\n",
       "    </tr>\n",
       "  </thead>\n",
       "  <tbody>\n",
       "    <tr>\n",
       "      <th>1332 JT</th>\n",
       "      <td>2013-01-04</td>\n",
       "      <td>2021-03-19</td>\n",
       "    </tr>\n",
       "    <tr>\n",
       "      <th>1605 JT</th>\n",
       "      <td>2013-01-04</td>\n",
       "      <td>2021-03-19</td>\n",
       "    </tr>\n",
       "    <tr>\n",
       "      <th>1721 JT</th>\n",
       "      <td>2013-01-04</td>\n",
       "      <td>2021-03-19</td>\n",
       "    </tr>\n",
       "    <tr>\n",
       "      <th>1801 JT</th>\n",
       "      <td>2013-01-04</td>\n",
       "      <td>2021-03-19</td>\n",
       "    </tr>\n",
       "    <tr>\n",
       "      <th>1802 JT</th>\n",
       "      <td>2013-01-04</td>\n",
       "      <td>2021-03-19</td>\n",
       "    </tr>\n",
       "    <tr>\n",
       "      <th>...</th>\n",
       "      <td>...</td>\n",
       "      <td>...</td>\n",
       "    </tr>\n",
       "    <tr>\n",
       "      <th>9613 JT</th>\n",
       "      <td>2013-01-04</td>\n",
       "      <td>2021-03-19</td>\n",
       "    </tr>\n",
       "    <tr>\n",
       "      <th>9735 JT</th>\n",
       "      <td>2013-01-04</td>\n",
       "      <td>2021-03-19</td>\n",
       "    </tr>\n",
       "    <tr>\n",
       "      <th>9766 JT</th>\n",
       "      <td>2013-01-04</td>\n",
       "      <td>2021-03-19</td>\n",
       "    </tr>\n",
       "    <tr>\n",
       "      <th>9983 JT</th>\n",
       "      <td>2013-01-04</td>\n",
       "      <td>2021-03-19</td>\n",
       "    </tr>\n",
       "    <tr>\n",
       "      <th>9984 JT</th>\n",
       "      <td>2013-01-04</td>\n",
       "      <td>2021-03-19</td>\n",
       "    </tr>\n",
       "  </tbody>\n",
       "</table>\n",
       "<p>203 rows × 2 columns</p>\n",
       "</div>"
      ],
      "text/plain": [
       "              begin         end\n",
       "1332 JT  2013-01-04  2021-03-19\n",
       "1605 JT  2013-01-04  2021-03-19\n",
       "1721 JT  2013-01-04  2021-03-19\n",
       "1801 JT  2013-01-04  2021-03-19\n",
       "1802 JT  2013-01-04  2021-03-19\n",
       "...             ...         ...\n",
       "9613 JT  2013-01-04  2021-03-19\n",
       "9735 JT  2013-01-04  2021-03-19\n",
       "9766 JT  2013-01-04  2021-03-19\n",
       "9983 JT  2013-01-04  2021-03-19\n",
       "9984 JT  2013-01-04  2021-03-19\n",
       "\n",
       "[203 rows x 2 columns]"
      ]
     },
     "execution_count": 10,
     "metadata": {},
     "output_type": "execute_result"
    }
   ],
   "source": [
    "stock_select = stock_date[(stock_date[\"begin\"]==\"2013-01-04\") & (stock_date[\"end\"]==\"2021-03-19\")]\n",
    "\n",
    "stock_select"
   ]
  },
  {
   "cell_type": "code",
   "execution_count": 11,
   "id": "cd4581f6",
   "metadata": {},
   "outputs": [],
   "source": [
    "data = da[da[\"ticker\"].isin(stock_select.index)].reset_index(drop=True).copy()"
   ]
  },
  {
   "cell_type": "code",
   "execution_count": 12,
   "id": "bf5896e0",
   "metadata": {},
   "outputs": [
    {
     "data": {
      "text/html": [
       "<div>\n",
       "<style scoped>\n",
       "    .dataframe tbody tr th:only-of-type {\n",
       "        vertical-align: middle;\n",
       "    }\n",
       "\n",
       "    .dataframe tbody tr th {\n",
       "        vertical-align: top;\n",
       "    }\n",
       "\n",
       "    .dataframe thead th {\n",
       "        text-align: right;\n",
       "    }\n",
       "</style>\n",
       "<table border=\"1\" class=\"dataframe\">\n",
       "  <thead>\n",
       "    <tr style=\"text-align: right;\">\n",
       "      <th></th>\n",
       "      <th>ticker</th>\n",
       "      <th>date</th>\n",
       "      <th>last</th>\n",
       "      <th>volume</th>\n",
       "    </tr>\n",
       "  </thead>\n",
       "  <tbody>\n",
       "    <tr>\n",
       "      <th>0</th>\n",
       "      <td>1332 JT</td>\n",
       "      <td>2013-01-04</td>\n",
       "      <td>169.0987</td>\n",
       "      <td>1464100</td>\n",
       "    </tr>\n",
       "    <tr>\n",
       "      <th>1</th>\n",
       "      <td>1332 JT</td>\n",
       "      <td>2013-01-07</td>\n",
       "      <td>166.3266</td>\n",
       "      <td>1783500</td>\n",
       "    </tr>\n",
       "    <tr>\n",
       "      <th>2</th>\n",
       "      <td>1332 JT</td>\n",
       "      <td>2013-01-08</td>\n",
       "      <td>166.3266</td>\n",
       "      <td>1759800</td>\n",
       "    </tr>\n",
       "    <tr>\n",
       "      <th>3</th>\n",
       "      <td>1332 JT</td>\n",
       "      <td>2013-01-09</td>\n",
       "      <td>165.4026</td>\n",
       "      <td>767800</td>\n",
       "    </tr>\n",
       "    <tr>\n",
       "      <th>4</th>\n",
       "      <td>1332 JT</td>\n",
       "      <td>2013-01-10</td>\n",
       "      <td>167.2507</td>\n",
       "      <td>1503100</td>\n",
       "    </tr>\n",
       "    <tr>\n",
       "      <th>...</th>\n",
       "      <td>...</td>\n",
       "      <td>...</td>\n",
       "      <td>...</td>\n",
       "      <td>...</td>\n",
       "    </tr>\n",
       "    <tr>\n",
       "      <th>405953</th>\n",
       "      <td>9984 JT</td>\n",
       "      <td>2021-03-15</td>\n",
       "      <td>10370.0000</td>\n",
       "      <td>12041200</td>\n",
       "    </tr>\n",
       "    <tr>\n",
       "      <th>405954</th>\n",
       "      <td>9984 JT</td>\n",
       "      <td>2021-03-16</td>\n",
       "      <td>10620.0000</td>\n",
       "      <td>11346000</td>\n",
       "    </tr>\n",
       "    <tr>\n",
       "      <th>405955</th>\n",
       "      <td>9984 JT</td>\n",
       "      <td>2021-03-17</td>\n",
       "      <td>10400.0000</td>\n",
       "      <td>9771000</td>\n",
       "    </tr>\n",
       "    <tr>\n",
       "      <th>405956</th>\n",
       "      <td>9984 JT</td>\n",
       "      <td>2021-03-18</td>\n",
       "      <td>10220.0000</td>\n",
       "      <td>13941600</td>\n",
       "    </tr>\n",
       "    <tr>\n",
       "      <th>405957</th>\n",
       "      <td>9984 JT</td>\n",
       "      <td>2021-03-19</td>\n",
       "      <td>9969.0000</td>\n",
       "      <td>20715700</td>\n",
       "    </tr>\n",
       "  </tbody>\n",
       "</table>\n",
       "<p>405958 rows × 4 columns</p>\n",
       "</div>"
      ],
      "text/plain": [
       "         ticker        date        last    volume\n",
       "0       1332 JT  2013-01-04    169.0987   1464100\n",
       "1       1332 JT  2013-01-07    166.3266   1783500\n",
       "2       1332 JT  2013-01-08    166.3266   1759800\n",
       "3       1332 JT  2013-01-09    165.4026    767800\n",
       "4       1332 JT  2013-01-10    167.2507   1503100\n",
       "...         ...         ...         ...       ...\n",
       "405953  9984 JT  2021-03-15  10370.0000  12041200\n",
       "405954  9984 JT  2021-03-16  10620.0000  11346000\n",
       "405955  9984 JT  2021-03-17  10400.0000   9771000\n",
       "405956  9984 JT  2021-03-18  10220.0000  13941600\n",
       "405957  9984 JT  2021-03-19   9969.0000  20715700\n",
       "\n",
       "[405958 rows x 4 columns]"
      ]
     },
     "execution_count": 12,
     "metadata": {},
     "output_type": "execute_result"
    }
   ],
   "source": [
    "data"
   ]
  },
  {
   "cell_type": "markdown",
   "id": "f5817400",
   "metadata": {},
   "source": [
    "## Missing values"
   ]
  },
  {
   "cell_type": "code",
   "execution_count": 13,
   "id": "48e02381",
   "metadata": {},
   "outputs": [
    {
     "name": "stdout",
     "output_type": "stream",
     "text": [
      "ticker    0\n",
      "date      0\n",
      "last      0\n",
      "volume    0\n",
      "dtype: int64\n"
     ]
    }
   ],
   "source": [
    "print(data.isnull().sum())"
   ]
  },
  {
   "cell_type": "markdown",
   "id": "ae6b52f6",
   "metadata": {},
   "source": [
    "## Duplicated Data"
   ]
  },
  {
   "cell_type": "code",
   "execution_count": 14,
   "id": "a6099743",
   "metadata": {},
   "outputs": [
    {
     "name": "stdout",
     "output_type": "stream",
     "text": [
      "Empty DataFrame\n",
      "Columns: [ticker, date, last, volume]\n",
      "Index: []\n"
     ]
    }
   ],
   "source": [
    "duplicates = data[data.duplicated(subset=['ticker', 'date'], keep=False)]\n",
    "print(duplicates)"
   ]
  },
  {
   "cell_type": "markdown",
   "id": "17bcb78a",
   "metadata": {},
   "source": [
    "## Types of Data"
   ]
  },
  {
   "cell_type": "code",
   "execution_count": 15,
   "id": "dff6d9ae",
   "metadata": {},
   "outputs": [
    {
     "name": "stdout",
     "output_type": "stream",
     "text": [
      "data:\n",
      "ticker     object\n",
      "date       object\n",
      "last      float64\n",
      "volume      int64\n",
      "dtype: object\n"
     ]
    }
   ],
   "source": [
    "print(\"data:\")\n",
    "print(data.dtypes)"
   ]
  },
  {
   "cell_type": "code",
   "execution_count": 16,
   "id": "bbb4bd48",
   "metadata": {},
   "outputs": [
    {
     "data": {
      "text/html": [
       "<div>\n",
       "<style scoped>\n",
       "    .dataframe tbody tr th:only-of-type {\n",
       "        vertical-align: middle;\n",
       "    }\n",
       "\n",
       "    .dataframe tbody tr th {\n",
       "        vertical-align: top;\n",
       "    }\n",
       "\n",
       "    .dataframe thead th {\n",
       "        text-align: right;\n",
       "    }\n",
       "</style>\n",
       "<table border=\"1\" class=\"dataframe\">\n",
       "  <thead>\n",
       "    <tr style=\"text-align: right;\">\n",
       "      <th></th>\n",
       "      <th>ticker</th>\n",
       "      <th>date</th>\n",
       "      <th>last</th>\n",
       "      <th>volume</th>\n",
       "    </tr>\n",
       "  </thead>\n",
       "  <tbody>\n",
       "    <tr>\n",
       "      <th>0</th>\n",
       "      <td>1332 JT</td>\n",
       "      <td>2013-01-04</td>\n",
       "      <td>169.0987</td>\n",
       "      <td>1464100</td>\n",
       "    </tr>\n",
       "    <tr>\n",
       "      <th>1</th>\n",
       "      <td>1332 JT</td>\n",
       "      <td>2013-01-07</td>\n",
       "      <td>166.3266</td>\n",
       "      <td>1783500</td>\n",
       "    </tr>\n",
       "    <tr>\n",
       "      <th>2</th>\n",
       "      <td>1332 JT</td>\n",
       "      <td>2013-01-08</td>\n",
       "      <td>166.3266</td>\n",
       "      <td>1759800</td>\n",
       "    </tr>\n",
       "    <tr>\n",
       "      <th>3</th>\n",
       "      <td>1332 JT</td>\n",
       "      <td>2013-01-09</td>\n",
       "      <td>165.4026</td>\n",
       "      <td>767800</td>\n",
       "    </tr>\n",
       "    <tr>\n",
       "      <th>4</th>\n",
       "      <td>1332 JT</td>\n",
       "      <td>2013-01-10</td>\n",
       "      <td>167.2507</td>\n",
       "      <td>1503100</td>\n",
       "    </tr>\n",
       "    <tr>\n",
       "      <th>...</th>\n",
       "      <td>...</td>\n",
       "      <td>...</td>\n",
       "      <td>...</td>\n",
       "      <td>...</td>\n",
       "    </tr>\n",
       "    <tr>\n",
       "      <th>405953</th>\n",
       "      <td>9984 JT</td>\n",
       "      <td>2021-03-15</td>\n",
       "      <td>10370.0000</td>\n",
       "      <td>12041200</td>\n",
       "    </tr>\n",
       "    <tr>\n",
       "      <th>405954</th>\n",
       "      <td>9984 JT</td>\n",
       "      <td>2021-03-16</td>\n",
       "      <td>10620.0000</td>\n",
       "      <td>11346000</td>\n",
       "    </tr>\n",
       "    <tr>\n",
       "      <th>405955</th>\n",
       "      <td>9984 JT</td>\n",
       "      <td>2021-03-17</td>\n",
       "      <td>10400.0000</td>\n",
       "      <td>9771000</td>\n",
       "    </tr>\n",
       "    <tr>\n",
       "      <th>405956</th>\n",
       "      <td>9984 JT</td>\n",
       "      <td>2021-03-18</td>\n",
       "      <td>10220.0000</td>\n",
       "      <td>13941600</td>\n",
       "    </tr>\n",
       "    <tr>\n",
       "      <th>405957</th>\n",
       "      <td>9984 JT</td>\n",
       "      <td>2021-03-19</td>\n",
       "      <td>9969.0000</td>\n",
       "      <td>20715700</td>\n",
       "    </tr>\n",
       "  </tbody>\n",
       "</table>\n",
       "<p>405958 rows × 4 columns</p>\n",
       "</div>"
      ],
      "text/plain": [
       "         ticker       date        last    volume\n",
       "0       1332 JT 2013-01-04    169.0987   1464100\n",
       "1       1332 JT 2013-01-07    166.3266   1783500\n",
       "2       1332 JT 2013-01-08    166.3266   1759800\n",
       "3       1332 JT 2013-01-09    165.4026    767800\n",
       "4       1332 JT 2013-01-10    167.2507   1503100\n",
       "...         ...        ...         ...       ...\n",
       "405953  9984 JT 2021-03-15  10370.0000  12041200\n",
       "405954  9984 JT 2021-03-16  10620.0000  11346000\n",
       "405955  9984 JT 2021-03-17  10400.0000   9771000\n",
       "405956  9984 JT 2021-03-18  10220.0000  13941600\n",
       "405957  9984 JT 2021-03-19   9969.0000  20715700\n",
       "\n",
       "[405958 rows x 4 columns]"
      ]
     },
     "execution_count": 16,
     "metadata": {},
     "output_type": "execute_result"
    }
   ],
   "source": [
    "data[\"date\"] = pd.to_datetime(data[\"date\"])\n",
    "data"
   ]
  },
  {
   "cell_type": "markdown",
   "id": "286fc0cb",
   "metadata": {},
   "source": [
    "## Outliers"
   ]
  },
  {
   "cell_type": "markdown",
   "id": "5301b421",
   "metadata": {},
   "source": [
    "Here, if the stock price is less than $mean-3*std$ or larger than $mean+3*std$, we identify it as an outlier. The mean value and standard deviation is calculated using the rolling window method."
   ]
  },
  {
   "cell_type": "code",
   "execution_count": 17,
   "id": "84a6a53f",
   "metadata": {},
   "outputs": [],
   "source": [
    "unique_stocks = data[\"ticker\"].unique()\n",
    "\n",
    "data.set_index(\"date\", inplace=True)"
   ]
  },
  {
   "cell_type": "code",
   "execution_count": 18,
   "id": "cc00c2f1",
   "metadata": {},
   "outputs": [],
   "source": [
    "data.sort_index(inplace=True)"
   ]
  },
  {
   "cell_type": "code",
   "execution_count": 19,
   "id": "7c4e62ec",
   "metadata": {},
   "outputs": [],
   "source": [
    "outlier_index = []\n",
    "window = 10\n",
    "threshold = 3\n",
    "\n",
    "for i in unique_stocks:\n",
    "    sub_data = data[data[\"ticker\"] == i].copy()\n",
    "    sub_data_de = sub_data.sort_index(ascending = False).copy()\n",
    "    \n",
    "    sub_data['MovingAverage'] = sub_data['last'].rolling(window=window, min_periods=1).mean()\n",
    "    sub_data['MovingStd'] = sub_data['last'].rolling(window=window, min_periods=1).std()\n",
    "    \n",
    "    sub_data_de['MovingAverage'] = sub_data_de['last'].rolling(window=window, min_periods=1).mean()\n",
    "    sub_data_de['MovingStd'] = sub_data_de['last'].rolling(window=window, min_periods=1).std()\n",
    "    \n",
    "    sub_data['Deviation'] = abs(sub_data['last'] - sub_data['MovingAverage'])\n",
    "    sub_data_de['Deviation'] = abs(sub_data_de['last'] - sub_data_de['MovingAverage'])\n",
    "    \n",
    "    sub_data['IsOutlier'] = sub_data['Deviation'] > (threshold * sub_data['MovingStd'])\n",
    "    sub_data_de['IsOutlier'] = sub_data_de['Deviation'] > (threshold * sub_data_de['MovingStd'])\n",
    "    \n",
    "    if sum(sub_data['IsOutlier'] & sub_data_de[\"IsOutlier\"]) >0 :\n",
    "        outliers = sub_data[sub_data['IsOutlier'] & sub_data_de[\"IsOutlier\"]]\n",
    "        outlier_index.append(outliers.index)"
   ]
  },
  {
   "cell_type": "code",
   "execution_count": 20,
   "id": "6c44eb2f",
   "metadata": {},
   "outputs": [
    {
     "data": {
      "text/plain": [
       "[]"
      ]
     },
     "execution_count": 20,
     "metadata": {},
     "output_type": "execute_result"
    }
   ],
   "source": [
    "outlier_index"
   ]
  },
  {
   "cell_type": "markdown",
   "id": "8eb6c648",
   "metadata": {},
   "source": [
    "# Strategy"
   ]
  },
  {
   "cell_type": "markdown",
   "id": "0611c3c7",
   "metadata": {},
   "source": [
    "Here, we would like to build a strategy using the idea of pair trading, which utilizes the price changes of a pair of stocks with strong correlation."
   ]
  },
  {
   "cell_type": "code",
   "execution_count": 21,
   "id": "290c68d7",
   "metadata": {},
   "outputs": [],
   "source": [
    "# We use the data from 2013 to 2018 to select the stock pairs\n",
    "# use the data from 2019 to get the strategy accuracy\n",
    "\n",
    "da_train = data[\"2013\":\"2019\"]\n",
    "da_test = data[\"2019\":]"
   ]
  },
  {
   "cell_type": "markdown",
   "id": "676fdaeb",
   "metadata": {},
   "source": [
    "## Pair Selection"
   ]
  },
  {
   "cell_type": "markdown",
   "id": "501e18dd",
   "metadata": {},
   "source": [
    "We select stocks with high correlation coefficient, which can also pass both the augmented DickeyFuller test and the cointegration test."
   ]
  },
  {
   "cell_type": "code",
   "execution_count": 22,
   "id": "e2a5087f",
   "metadata": {},
   "outputs": [],
   "source": [
    "stocks = data[\"ticker\"].unique()"
   ]
  },
  {
   "cell_type": "code",
   "execution_count": 23,
   "id": "32c23a8d",
   "metadata": {},
   "outputs": [],
   "source": [
    "def stock_selection():\n",
    "    length = len(stocks)\n",
    "    stock_correlation = []\n",
    "    for i in range(length):\n",
    "        for j in range(i+1, length):\n",
    "            stock_1 = da_train[da_train[\"ticker\"] == stocks[i]]\n",
    "            stock_2 = da_train[da_train[\"ticker\"] == stocks[j]]\n",
    "            da = pd.merge(stock_1, stock_2, on = \"date\", how='inner')\n",
    "            if (len(da) !=0):\n",
    "                if (abs(np.corrcoef(da[\"last_x\"], da[\"last_y\"])[0, 1]) > 0.9):\n",
    "                    stock_correlation.append([np.corrcoef(da[\"last_x\"], da[\"last_y\"])[0, 1], [stocks[i], stocks[j]]])\n",
    "    \n",
    "    stock_correlation = np.array(stock_correlation, dtype=object)\n",
    "    if len(stock_correlation) > 1:\n",
    "        sorted_indices = np.argsort(stock_correlation[:, 0], axis=0)[::-1]\n",
    "        stock_correlation = stock_correlation[sorted_indices]\n",
    "    return stock_correlation"
   ]
  },
  {
   "cell_type": "code",
   "execution_count": 24,
   "id": "5036ab00",
   "metadata": {},
   "outputs": [],
   "source": [
    "correlation = stock_selection()"
   ]
  },
  {
   "cell_type": "code",
   "execution_count": 25,
   "id": "62eba068",
   "metadata": {},
   "outputs": [],
   "source": [
    "def cointegration_select():\n",
    "    result = []\n",
    "    for j in correlation:\n",
    "        stock_1 = da_train[da_train[\"ticker\"] == j[1][0]]\n",
    "        stock_2 = da_train[da_train[\"ticker\"] == j[1][1]]\n",
    "        data = pd.merge(stock_1, stock_2, on = \"date\", how = \"inner\")\n",
    "            \n",
    "        model = LinearRegression()\n",
    "        X = np.array(data[\"last_x\"]).reshape(-1,1)\n",
    "        y = data['last_y']\n",
    "        model.fit(X, y)\n",
    "\n",
    "        predicted_values = model.predict(X)\n",
    "        residuals = y - predicted_values\n",
    "        test = adfuller(residuals)\n",
    "            \n",
    "        coint_test = coint(X, y)\n",
    "        if test[1] < 0.05:  # Augmented Dickey-Fuller test \n",
    "            if coint_test[1] < 0.05: # Cointegration test\n",
    "                result.append(list(j))\n",
    "                break\n",
    "    return result"
   ]
  },
  {
   "cell_type": "code",
   "execution_count": 26,
   "id": "2b60ea9c",
   "metadata": {},
   "outputs": [],
   "source": [
    "pair_selected = cointegration_select()"
   ]
  },
  {
   "cell_type": "code",
   "execution_count": 27,
   "id": "78b2308c",
   "metadata": {},
   "outputs": [
    {
     "data": {
      "text/plain": [
       "[[0.9820416104448255, ['5301 JT', '4004 JT']]]"
      ]
     },
     "execution_count": 27,
     "metadata": {},
     "output_type": "execute_result"
    }
   ],
   "source": [
    "pair_selected"
   ]
  },
  {
   "cell_type": "markdown",
   "id": "2a2dceea",
   "metadata": {},
   "source": [
    "## Signal check"
   ]
  },
  {
   "cell_type": "code",
   "execution_count": 28,
   "id": "65c78630",
   "metadata": {},
   "outputs": [
    {
     "data": {
      "image/png": "[encoded data removed]",
      "text/plain": [
       "<Figure size 432x288 with 1 Axes>"
      ]
     },
     "metadata": {
      "needs_background": "light"
     },
     "output_type": "display_data"
    }
   ],
   "source": [
    "plt.scatter(range(len(da_train[da_train[\"ticker\"]=='5301 JT'][\"last\"])),da_train[da_train[\"ticker\"] == '5301 JT'][\"last\"], label = '5301 JT')\n",
    "plt.scatter(range(len(da_train[da_train[\"ticker\"]=='4004 JT'][\"last\"])),da_train[da_train[\"ticker\"] == '4004 JT'][\"last\"], label = '4004 JT')\n",
    "\n",
    "plt.xlabel(\"x\")\n",
    "plt.ylabel(\"adjusted price\")\n",
    "plt.legend()\n",
    "plt.savefig(\"pair1.png\")\n",
    "plt.show()"
   ]
  },
  {
   "cell_type": "markdown",
   "id": "8cec7c75",
   "metadata": {},
   "source": [
    "From the above picture, we can find that the price movements of these two stocks are closely related."
   ]
  },
  {
   "cell_type": "markdown",
   "id": "89105ce9",
   "metadata": {},
   "source": [
    "## Strategy Costruction"
   ]
  },
  {
   "cell_type": "markdown",
   "id": "3032149b",
   "metadata": {},
   "source": [
    "We then begin to construct our portfolio using the two stocks selected. The logic is that the spread of these two stocks will converge to its mean in the long run. Thus, we can make profits by exploiting the changes in the spreads.\n",
    "\n",
    "\n",
    "If the spread is larger than a certain threshold, we buy the stock at a lower price and short-sell the stock at a higher price. We close the position once the spread converges to a certain threshold. If the spread is smaller than a certain threshold, we buy the stock at a lower price and short-sell the stock at a higher price. We close the position once the spread converges to a certain threshold.\n",
    "\n",
    "\n",
    "We also employ some risk management methods. Firstly, if the loss meets certain criteria, we close the position. Secondly, the number of shares we buy in each trade is less than a certain fraction of the initial capital."
   ]
  },
  {
   "cell_type": "code",
   "execution_count": 29,
   "id": "d9de9882",
   "metadata": {},
   "outputs": [],
   "source": [
    "def pair_trading_strategy(da, threshold_buy = 1, threshold_buy_sell = 0, threshold_sell = -1, threshold_sell_buy=0, \n",
    "                          stop_loss_percent = 0.9):\n",
    "    initial_capital = 1000000\n",
    "    number = int(initial_capital*0.1/np.mean(da[\"last_x\"]))\n",
    "\n",
    "    # Initialize position and cash\n",
    "    position_stock1 = 0\n",
    "    position_stock2 = 0\n",
    "    cash = [initial_capital]\n",
    "    \n",
    "    portfolio_values = [initial_capital]\n",
    "    for i in range(len(da[\"z_score\"])):\n",
    "        if da.iloc[i][\"z_score\"] >= threshold_buy:\n",
    "            if (position_stock1 == 0):\n",
    "                position_stock1 -= number\n",
    "                position_stock2 += number\n",
    "                cash.append(cash[-1] + number*da.iloc[i][\"last_x\"] - number*da.iloc[i][\"last_y\"])\n",
    "                \n",
    "        if da.iloc[i][\"z_score\"] > threshold_sell_buy:\n",
    "            if (position_stock1 == number):\n",
    "                position_stock1 -= number\n",
    "                position_stock2 += number\n",
    "                cash.append(cash[-1] + number*da.iloc[i][\"last_x\"] - number*da.iloc[i][\"last_y\"])\n",
    "                \n",
    "        if da.iloc[i][\"z_score\"] <= threshold_sell:\n",
    "            if (position_stock2 == 0):\n",
    "                position_stock1 += number\n",
    "                position_stock2 -= number\n",
    "                cash.append(cash[-1] - number*da.iloc[i][\"last_x\"] + number*da.iloc[i][\"last_y\"])\n",
    "                \n",
    "        if da.iloc[i][\"z_score\"] < threshold_buy_sell:\n",
    "            if (position_stock1 == -number):\n",
    "                position_stock1 += number\n",
    "                position_stock2 -= number\n",
    "                cash.append(cash[-1] - number*da.iloc[i][\"last_x\"] + number*da.iloc[i][\"last_y\"])\n",
    "                \n",
    "        portfolio_values.append(cash[-1] + position_stock1*da.iloc[i][\"last_x\"] \n",
    "                                        +position_stock2*da.iloc[i][\"last_y\"])\n",
    "        \n",
    "        # Risk Management\n",
    "        if (portfolio_values[-1]/portfolio_values[0] < stop_loss_percent) | (cash[-1]/cash[0] < stop_loss_percent):\n",
    "            position_stock1 == 0\n",
    "            position_stock2 == 0\n",
    "            cash.append(cash[-1] + position_stock1*da.iloc[i][\"last_x\"] + position_stock2*da.iloc[i][\"last_y\"])       \n",
    "        \n",
    "        \n",
    "    if position_stock1 !=0 | position_stock2 !=0:\n",
    "        cash = cash + position_stock1 * da.iloc[-1][\"last_x\"] + position_stock2 * da.iloc[-1][\"last_y\"]\n",
    "        \n",
    "    portfolio_values.append(cash[-1] + position_stock1*da.iloc[i][\"last_x\"] \n",
    "                                        +position_stock2*da.iloc[i][\"last_y\"])\n",
    "    return cash, portfolio_values"
   ]
  },
  {
   "cell_type": "markdown",
   "id": "604df7ba",
   "metadata": {},
   "source": [
    "## Backtest"
   ]
  },
  {
   "cell_type": "markdown",
   "id": "e78e5ac6",
   "metadata": {},
   "source": [
    "We first try to figure out the strategy performance on the training set, and fine tune the hyper-parameters using grid search."
   ]
  },
  {
   "cell_type": "code",
   "execution_count": 30,
   "id": "2abaea63",
   "metadata": {},
   "outputs": [
    {
     "data": {
      "image/png": "[encoded data removed]",
      "text/plain": [
       "<Figure size 864x432 with 1 Axes>"
      ]
     },
     "metadata": {
      "needs_background": "light"
     },
     "output_type": "display_data"
    }
   ],
   "source": [
    "stock_1 = da_train[da_train[\"ticker\"] == '5301 JT']\n",
    "stock_2 = da_train[da_train[\"ticker\"] == '4004 JT']\n",
    "stock = pd.merge(stock_1, stock_2, on = \"date\", how = \"inner\")\n",
    "stock[\"spread\"] = stock[\"last_x\"]-stock[\"last_y\"] \n",
    "    \n",
    "    \n",
    "def zscore(series):\n",
    "    return (series - series.mean()) / np.std(series)\n",
    "\n",
    "stock[\"z_score\"] = zscore(stock[\"spread\"])\n",
    "stock[\"z_score\"].plot(figsize=(12,6))\n",
    "plt.axhline(0)\n",
    "plt.axhline(1, color='red')\n",
    "plt.axhline(-1, color='green')\n",
    "plt.show()"
   ]
  },
  {
   "cell_type": "code",
   "execution_count": 31,
   "id": "c3f30480",
   "metadata": {},
   "outputs": [
    {
     "name": "stdout",
     "output_type": "stream",
     "text": [
      "-89.8150451364001\n",
      "-0.09105311519999977\n",
      "-0.16622505989999964\n",
      "-0.12180954239999957\n"
     ]
    }
   ],
   "source": [
    "cash, portfolio_values = pair_trading_strategy(da = stock, stop_loss_percent = 0.8, threshold_buy = 0.5,\n",
    "                                              threshold_buy_sell=0.2, threshold_sell = -0.5, threshold_sell_buy= -0.2)\n",
    "print((portfolio_values[-1]-portfolio_values[0])/portfolio_values[0])\n",
    "cash, portfolio_values = pair_trading_strategy(da = stock, stop_loss_percent = 0.8)\n",
    "print((portfolio_values[-1]-portfolio_values[0])/portfolio_values[0])\n",
    "cash, portfolio_values = pair_trading_strategy(da = stock, stop_loss_percent = 0.8, threshold_buy = 0.4,\n",
    "                                              threshold_buy_sell=0, threshold_sell = -0.4, threshold_sell_buy= 0)\n",
    "print((portfolio_values[-1]-portfolio_values[0])/portfolio_values[0])\n",
    "cash, portfolio_values = pair_trading_strategy(da = stock, stop_loss_percent = 0.8, threshold_buy = 0.5,\n",
    "                                              threshold_buy_sell=0.1, threshold_sell = -0.5, threshold_sell_buy= -0.1)\n",
    "print((portfolio_values[-1]-portfolio_values[0])/portfolio_values[0])"
   ]
  },
  {
   "cell_type": "markdown",
   "id": "12db3bf1",
   "metadata": {},
   "source": [
    "We can find the highest return is achieved using the second group of hyper-parameters. Therefore, we use the second group of hyper-parameters to obtain the pnl on the test set."
   ]
  },
  {
   "cell_type": "code",
   "execution_count": 32,
   "id": "c98126d9",
   "metadata": {},
   "outputs": [],
   "source": [
    "stock_1 = da_test[da_test[\"ticker\"] == '5301 JT']\n",
    "stock_2 = da_test[da_test[\"ticker\"] == '4004 JT']\n",
    "stock = pd.merge(stock_1, stock_2, on = \"date\", how = \"inner\")\n",
    "stock[\"spread\"] = stock[\"last_x\"]-stock[\"last_y\"] \n",
    "    \n",
    "    \n",
    "def zscore(series):\n",
    "    return (series - series.mean()) / np.std(series)\n",
    "\n",
    "stock[\"z_score\"] = zscore(stock[\"spread\"])"
   ]
  },
  {
   "cell_type": "code",
   "execution_count": 33,
   "id": "a12570c0",
   "metadata": {},
   "outputs": [
    {
     "name": "stdout",
     "output_type": "stream",
     "text": [
      "0.3112242067999998\n"
     ]
    }
   ],
   "source": [
    "cash, portfolio_values = pair_trading_strategy(da = stock, stop_loss_percent = 0.8)\n",
    "print((portfolio_values[-1]-portfolio_values[0])/portfolio_values[0])"
   ]
  },
  {
   "cell_type": "markdown",
   "id": "58a5517c",
   "metadata": {},
   "source": [
    "The strategy achieves a small portfolio value increase in the testing set"
   ]
  },
  {
   "cell_type": "code",
   "execution_count": 34,
   "id": "d520e01e",
   "metadata": {},
   "outputs": [
    {
     "data": {
      "image/png": "[encoded data removed]",
      "text/plain": [
       "<Figure size 432x288 with 1 Axes>"
      ]
     },
     "metadata": {
      "needs_background": "light"
     },
     "output_type": "display_data"
    },
    {
     "name": "stdout",
     "output_type": "stream",
     "text": [
      "Maximum Drawdown: 6.44%\n"
     ]
    }
   ],
   "source": [
    "# maximum drawdown calculation\n",
    "\n",
    "def maximum_drawdown(portfolio_values):\n",
    "    portfolio_values = pd.Series(portfolio_values)\n",
    "    # Calculate the daily returns\n",
    "    daily_returns = portfolio_values.pct_change().dropna()\n",
    "\n",
    "    # Calculate the cumulative returns\n",
    "    cumulative_returns = (1 + daily_returns).cumprod()\n",
    "\n",
    "    # Calculate the previous peaks\n",
    "    previous_peaks = np.maximum.accumulate(cumulative_returns)\n",
    "\n",
    "    # Calculate the drawdowns\n",
    "    drawdowns = (cumulative_returns - previous_peaks) / previous_peaks\n",
    "    \n",
    "    plt.plot(range(len(drawdowns)), drawdowns)\n",
    "    plt.xlabel(\"x\")\n",
    "    plt.ylabel(\"maximum drawdown\")\n",
    "    plt.savefig(\"drawdown.png\")\n",
    "    plt.show()\n",
    "\n",
    "    # Calculate the maximum drawdown\n",
    "    max_drawdown = np.abs(np.min(drawdowns))\n",
    "\n",
    "    return max_drawdown\n",
    "\n",
    "max_drawdown = maximum_drawdown(portfolio_values)\n",
    "print(\"Maximum Drawdown: {:.2f}%\".format(max_drawdown * 100))"
   ]
  },
  {
   "cell_type": "code",
   "execution_count": 35,
   "id": "91822ebc",
   "metadata": {},
   "outputs": [],
   "source": [
    "# Calculate the Sharpe Ratio\n",
    "\n",
    "def sharpe_ratio(portfolio_values, risk_free_rate=0.0):\n",
    "    # Convert numpy array to pandas Series\n",
    "    portfolio_values = pd.Series(portfolio_values)\n",
    "\n",
    "    # Calculate the daily returns\n",
    "    daily_returns = portfolio_values.pct_change().dropna()\n",
    "\n",
    "    # Calculate the average daily return and standard deviation of daily returns\n",
    "    avg_daily_return = daily_returns.mean()\n",
    "    std_daily_return = daily_returns.std()\n",
    "\n",
    "    # Calculate the Sharpe ratio\n",
    "    sharpe_ratio = (avg_daily_return - risk_free_rate) / std_daily_return\n",
    "\n",
    "    return sharpe_ratio"
   ]
  },
  {
   "cell_type": "code",
   "execution_count": 36,
   "id": "4d819a75",
   "metadata": {},
   "outputs": [
    {
     "name": "stdout",
     "output_type": "stream",
     "text": [
      "Sharpe Ratio: 0.09\n"
     ]
    }
   ],
   "source": [
    "sharpe_ratio_value = sharpe_ratio(portfolio_values)\n",
    "print(\"Sharpe Ratio: {:.2f}\".format(sharpe_ratio_value))"
   ]
  },
  {
   "cell_type": "code",
   "execution_count": null,
   "id": "f2ceef5e",
   "metadata": {},
   "outputs": [],
   "source": []
  }
 ],
 "metadata": {
  "kernelspec": {
   "display_name": "Python 3 (ipykernel)",
   "language": "python",
   "name": "python3"
  },
  "language_info": {
   "codemirror_mode": {
    "name": "ipython",
    "version": 3
   },
   "file_extension": ".py",
   "mimetype": "text/x-python",
   "name": "python",
   "nbconvert_exporter": "python",
   "pygments_lexer": "ipython3",
   "version": "3.9.12"
  },
  "latex_envs": {
   "LaTeX_envs_menu_present": true,
   "autoclose": false,
   "autocomplete": true,
   "bibliofile": "biblio.bib",
   "cite_by": "apalike",
   "current_citInitial": 1,
   "eqLabelWithNumbers": true,
   "eqNumInitial": 1,
   "hotkeys": {
    "equation": "Ctrl-E",
    "itemize": "Ctrl-I"
   },
   "labels_anchors": false,
   "latex_user_defs": false,
   "report_style_numbering": false,
   "user_envs_cfg": false
  },
  "toc": {
   "base_numbering": 1,
   "nav_menu": {},
   "number_sections": true,
   "sideBar": true,
   "skip_h1_title": false,
   "title_cell": "Table of Contents",
   "title_sidebar": "Contents",
   "toc_cell": false,
   "toc_position": {},
   "toc_section_display": true,
   "toc_window_display": false
  },
  "varInspector": {
   "cols": {
    "lenName": 16,
    "lenType": 16,
    "lenVar": 40
   },
   "kernels_config": {
    "python": {
     "delete_cmd_postfix": "",
     "delete_cmd_prefix": "del ",
     "library": "var_list.py",
     "varRefreshCmd": "print(var_dic_list())"
    },
    "r": {
     "delete_cmd_postfix": ") ",
     "delete_cmd_prefix": "rm(",
     "library": "var_list.r",
     "varRefreshCmd": "cat(var_dic_list()) "
    }
   },
   "types_to_exclude": [
    "module",
    "function",
    "builtin_function_or_method",
    "instance",
    "_Feature"
   ],
   "window_display": false
  }
 },
 "nbformat": 4,
 "nbformat_minor": 5
}
